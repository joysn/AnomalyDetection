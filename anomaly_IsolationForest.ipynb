{
 "cells": [
  {
   "cell_type": "code",
   "execution_count": 9,
   "metadata": {},
   "outputs": [],
   "source": [
    "import numpy as np\n",
    "import matplotlib.pyplot as plt\n",
    "from sklearn.ensemble import IsolationForest"
   ]
  },
  {
   "cell_type": "code",
   "execution_count": 10,
   "metadata": {},
   "outputs": [],
   "source": [
    "rng = np.random.RandomState(42)\n",
    "\n",
    "# Generate train data\n",
    "X = 0.3 * rng.randn(100, 2)\n",
    "X_train = np.r_[X + 2, X - 2]\n",
    "# Generate some regular novel observations\n",
    "X = 0.3 * rng.randn(20, 2)\n",
    "X_test = np.r_[X + 2, X - 2]\n",
    "# Generate some abnormal novel observations\n",
    "X_outliers = rng.uniform(low=-4, high=4, size=(20, 2))"
   ]
  },
  {
   "cell_type": "code",
   "execution_count": 11,
   "metadata": {},
   "outputs": [
    {
     "data": {
      "text/plain": [
       "(20, 2)"
      ]
     },
     "execution_count": 11,
     "metadata": {},
     "output_type": "execute_result"
    }
   ],
   "source": [
    "np.shape(X)"
   ]
  },
  {
   "cell_type": "code",
   "execution_count": 12,
   "metadata": {},
   "outputs": [
    {
     "data": {
      "text/plain": [
       "array([[ 2.14901425,  1.95852071],\n",
       "       [ 2.19430656,  2.45690896],\n",
       "       [ 1.92975399,  1.92975891],\n",
       "       [ 2.47376384,  2.23023042],\n",
       "       [ 1.85915768,  2.16276801],\n",
       "       [ 1.86097469,  1.86028107],\n",
       "       [ 2.07258868,  1.42601593],\n",
       "       [ 1.48252465,  1.83131374],\n",
       "       [ 1.69615066,  2.0942742 ],\n",
       "       [ 1.72759278,  1.57630889],\n",
       "       [ 2.43969463,  1.93226711],\n",
       "       [ 2.02025846,  1.57257554],\n",
       "       [ 1.83668518,  2.03327678],\n",
       "       [ 1.65470193,  2.11270941],\n",
       "       [ 1.81980839,  1.91249188],\n",
       "       [ 1.81948802,  2.55568346],\n",
       "       [ 1.99595083,  1.68268672],\n",
       "       [ 2.24676347,  1.63374691],\n",
       "       [ 2.06265908,  1.41209896],\n",
       "       [ 1.60154419,  2.05905837],\n",
       "       [ 2.22153997,  2.05141048],\n",
       "       [ 1.96530552,  1.90966889],\n",
       "       [ 1.5564434 ,  1.78404674],\n",
       "       [ 1.86180837,  2.31713667],\n",
       "       [ 2.10308549,  1.47108795],\n",
       "       [ 2.09722519,  1.88447532],\n",
       "       [ 1.7969234 ,  2.18350289],\n",
       "       [ 2.30929986,  2.27938404],\n",
       "       [ 1.74823474,  1.90723629],\n",
       "       [ 2.09937903,  2.29266354],\n",
       "       [ 1.85624773,  1.94430231],\n",
       "       [ 1.66809951,  1.64113801],\n",
       "       [ 2.24375775,  2.40687201],\n",
       "       [ 1.97839696,  2.30105987],\n",
       "       [ 2.10849081,  1.80646407],\n",
       "       [ 2.10841868,  2.46141097],\n",
       "       [ 1.98925219,  2.4693931 ],\n",
       "       [ 1.21407647,  2.24657075],\n",
       "       [ 2.02611412,  1.91029779],\n",
       "       [ 2.02752823,  1.40372933],\n",
       "       [ 1.93409843,  2.10713377],\n",
       "       [ 2.44336821,  1.84451893],\n",
       "       [ 1.75745192,  1.84947289],\n",
       "       [ 2.27462064,  2.09862533],\n",
       "       [ 1.84107194,  2.15398023],\n",
       "       [ 2.02912326,  2.2905935 ],\n",
       "       [ 1.78938407,  1.90170136],\n",
       "       [ 1.88236755,  1.56094552],\n",
       "       [ 2.08883608,  2.07831658],\n",
       "       [ 2.00153404,  1.92962386],\n",
       "       [ 1.57538878,  1.8738064 ],\n",
       "       [ 1.89718565,  1.75931682],\n",
       "       [ 1.95161429,  2.12121526],\n",
       "       [ 2.56585577,  2.05237334],\n",
       "       [ 2.07726512,  1.97766623],\n",
       "       [ 1.42436864,  1.99204584],\n",
       "       [ 2.01806906,  2.73897263],\n",
       "       [ 1.94229171,  2.0904642 ],\n",
       "       [ 1.98958647,  1.64939659],\n",
       "       [ 2.34284684,  2.22557991],\n",
       "       [ 2.23730958,  1.72718376],\n",
       "       [ 2.42083829,  1.57944468],\n",
       "       [ 2.17605713,  2.65713669],\n",
       "       [ 1.7028391 ,  1.83011068],\n",
       "       [ 2.02989541,  1.8489573 ],\n",
       "       [ 1.53480097,  2.02056889],\n",
       "       [ 1.68130889,  2.14207773],\n",
       "       [ 1.72417273,  2.46498032],\n",
       "       [ 1.76502401,  1.90338155],\n",
       "       [ 2.24405517,  1.63074071],\n",
       "       [ 2.06823798,  2.39214283],\n",
       "       [ 1.51775503,  2.05539016],\n",
       "       [ 2.07796484,  2.23454686],\n",
       "       [ 1.62891479,  1.60386302],\n",
       "       [ 2.15658247,  2.0890954 ],\n",
       "       [ 2.07514786,  2.10393446],\n",
       "       [ 1.79599258,  2.06967611],\n",
       "       [ 2.08792174,  1.78569457],\n",
       "       [ 2.55973235,  2.14214988],\n",
       "       [ 1.64260895,  2.19696608],\n",
       "       [ 1.7075955 ,  2.23612538],\n",
       "       [ 2.34757867,  1.7537953 ],\n",
       "       [ 2.28901284,  2.12383428],\n",
       "       [ 2.24661805,  2.56903789],\n",
       "       [ 1.92638357,  1.77387915],\n",
       "       [ 1.73314567,  1.75525691],\n",
       "       [ 1.97686949,  2.10234559],\n",
       "       [ 2.08300724,  2.24815497],\n",
       "       [ 2.00390057,  2.43606022],\n",
       "       [ 1.92060295,  2.81605075],\n",
       "       [ 2.1877002 ,  1.74285273],\n",
       "       [ 1.67873225,  2.14474172],\n",
       "       [ 1.93296116,  2.21420015],\n",
       "       [ 2.14197129,  1.97815133],\n",
       "       [ 1.74596188,  1.54554583],\n",
       "       [ 1.86604551,  2.25691964],\n",
       "       [ 2.06422812,  1.62627837],\n",
       "       [ 2.05195428,  2.11559521],\n",
       "       [ 1.73484277,  2.04611753],\n",
       "       [ 2.01746262,  1.65710891],\n",
       "       [-1.85098575, -2.04147929],\n",
       "       [-1.80569344, -1.54309104],\n",
       "       [-2.07024601, -2.07024109],\n",
       "       [-1.52623616, -1.76976958],\n",
       "       [-2.14084232, -1.83723199],\n",
       "       [-2.13902531, -2.13971893],\n",
       "       [-1.92741132, -2.57398407],\n",
       "       [-2.51747535, -2.16868626],\n",
       "       [-2.30384934, -1.9057258 ],\n",
       "       [-2.27240722, -2.42369111],\n",
       "       [-1.56030537, -2.06773289],\n",
       "       [-1.97974154, -2.42742446],\n",
       "       [-2.16331482, -1.96672322],\n",
       "       [-2.34529807, -1.88729059],\n",
       "       [-2.18019161, -2.08750812],\n",
       "       [-2.18051198, -1.44431654],\n",
       "       [-2.00404917, -2.31731328],\n",
       "       [-1.75323653, -2.36625309],\n",
       "       [-1.93734092, -2.58790104],\n",
       "       [-2.39845581, -1.94094163],\n",
       "       [-1.77846003, -1.94858952],\n",
       "       [-2.03469448, -2.09033111],\n",
       "       [-2.4435566 , -2.21595326],\n",
       "       [-2.13819163, -1.68286333],\n",
       "       [-1.89691451, -2.52891205],\n",
       "       [-1.90277481, -2.11552468],\n",
       "       [-2.2030766 , -1.81649711],\n",
       "       [-1.69070014, -1.72061596],\n",
       "       [-2.25176526, -2.09276371],\n",
       "       [-1.90062097, -1.70733646],\n",
       "       [-2.14375227, -2.05569769],\n",
       "       [-2.33190049, -2.35886199],\n",
       "       [-1.75624225, -1.59312799],\n",
       "       [-2.02160304, -1.69894013],\n",
       "       [-1.89150919, -2.19353593],\n",
       "       [-1.89158132, -1.53858903],\n",
       "       [-2.01074781, -1.5306069 ],\n",
       "       [-2.78592353, -1.75342925],\n",
       "       [-1.97388588, -2.08970221],\n",
       "       [-1.97247177, -2.59627067],\n",
       "       [-2.06590157, -1.89286623],\n",
       "       [-1.55663179, -2.15548107],\n",
       "       [-2.24254808, -2.15052711],\n",
       "       [-1.72537936, -1.90137467],\n",
       "       [-2.15892806, -1.84601977],\n",
       "       [-1.97087674, -1.7094065 ],\n",
       "       [-2.21061593, -2.09829864],\n",
       "       [-2.11763245, -2.43905448],\n",
       "       [-1.91116392, -1.92168342],\n",
       "       [-1.99846596, -2.07037614],\n",
       "       [-2.42461122, -2.1261936 ],\n",
       "       [-2.10281435, -2.24068318],\n",
       "       [-2.04838571, -1.87878474],\n",
       "       [-1.43414423, -1.94762666],\n",
       "       [-1.92273488, -2.02233377],\n",
       "       [-2.57563136, -2.00795416],\n",
       "       [-1.98193094, -1.26102737],\n",
       "       [-2.05770829, -1.9095358 ],\n",
       "       [-2.01041353, -2.35060341],\n",
       "       [-1.65715316, -1.77442009],\n",
       "       [-1.76269042, -2.27281624],\n",
       "       [-1.57916171, -2.42055532],\n",
       "       [-1.82394287, -1.34286331],\n",
       "       [-2.2971609 , -2.16988932],\n",
       "       [-1.97010459, -2.1510427 ],\n",
       "       [-2.46519903, -1.97943111],\n",
       "       [-2.31869111, -1.85792227],\n",
       "       [-2.27582727, -1.53501968],\n",
       "       [-2.23497599, -2.09661845],\n",
       "       [-1.75594483, -2.36925929],\n",
       "       [-1.93176202, -1.60785717],\n",
       "       [-2.48224497, -1.94460984],\n",
       "       [-1.92203516, -1.76545314],\n",
       "       [-2.37108521, -2.39613698],\n",
       "       [-1.84341753, -1.9109046 ],\n",
       "       [-1.92485214, -1.89606554],\n",
       "       [-2.20400742, -1.93032389],\n",
       "       [-1.91207826, -2.21430543],\n",
       "       [-1.44026765, -1.85785012],\n",
       "       [-2.35739105, -1.80303392],\n",
       "       [-2.2924045 , -1.76387462],\n",
       "       [-1.65242133, -2.2462047 ],\n",
       "       [-1.71098716, -1.87616572],\n",
       "       [-1.75338195, -1.43096211],\n",
       "       [-2.07361643, -2.22612085],\n",
       "       [-2.26685433, -2.24474309],\n",
       "       [-2.02313051, -1.89765441],\n",
       "       [-1.91699276, -1.75184503],\n",
       "       [-1.99609943, -1.56393978],\n",
       "       [-2.07939705, -1.18394925],\n",
       "       [-1.8122998 , -2.25714727],\n",
       "       [-2.32126775, -1.85525828],\n",
       "       [-2.06703884, -1.78579985],\n",
       "       [-1.85802871, -2.02184867],\n",
       "       [-2.25403812, -2.45445417],\n",
       "       [-2.13395449, -1.74308036],\n",
       "       [-1.93577188, -2.37372163],\n",
       "       [-1.94804572, -1.88440479],\n",
       "       [-2.26515723, -1.95388247],\n",
       "       [-1.98253738, -2.34289109]])"
      ]
     },
     "execution_count": 12,
     "metadata": {},
     "output_type": "execute_result"
    }
   ],
   "source": [
    "X_train"
   ]
  },
  {
   "cell_type": "code",
   "execution_count": 67,
   "metadata": {},
   "outputs": [
    {
     "name": "stdout",
     "output_type": "stream",
     "text": [
      "(200, 2)\n",
      "(40, 2)\n",
      "(20, 2)\n"
     ]
    }
   ],
   "source": [
    "print(np.shape(X_train))\n",
    "print(np.shape(X_test))\n",
    "print(np.shape(X_outliers))"
   ]
  },
  {
   "cell_type": "code",
   "execution_count": 68,
   "metadata": {},
   "outputs": [
    {
     "data": {
      "text/plain": [
       "array([2.14901425, 1.95852071])"
      ]
     },
     "execution_count": 68,
     "metadata": {},
     "output_type": "execute_result"
    }
   ],
   "source": [
    "X_train[0]"
   ]
  },
  {
   "cell_type": "code",
   "execution_count": 69,
   "metadata": {},
   "outputs": [],
   "source": [
    "# fit the model\n",
    "# https://scikit-learn.org/stable/modules/generated/sklearn.ensemble.IsolationForest.html\n",
    "clf = IsolationForest(max_samples=100,\n",
    "                      max_features=2,\n",
    "                      random_state=rng)\n",
    "clf.fit(X_train)\n",
    "y_pred_train = clf.predict(X_train)\n",
    "y_pred_test = clf.predict(X_test)\n",
    "y_pred_outliers = clf.predict(X_outliers)"
   ]
  },
  {
   "cell_type": "code",
   "execution_count": 70,
   "metadata": {},
   "outputs": [
    {
     "name": "stdout",
     "output_type": "stream",
     "text": [
      "(200,)\n",
      "(40,)\n",
      "(20,)\n"
     ]
    }
   ],
   "source": [
    "print(np.shape(y_pred_train))\n",
    "print(np.shape(y_pred_test))\n",
    "print(np.shape(y_pred_outliers))"
   ]
  },
  {
   "cell_type": "code",
   "execution_count": 71,
   "metadata": {},
   "outputs": [
    {
     "data": {
      "text/plain": [
       "array([ 1,  1,  1, -1,  1,  1,  1,  1,  1,  1,  1,  1,  1,  1,  1,  1,  1,\n",
       "        1,  1,  1,  1,  1,  1,  1,  1,  1,  1,  1,  1,  1,  1,  1,  1,  1,\n",
       "        1,  1,  1, -1,  1,  1,  1, -1,  1,  1,  1,  1,  1,  1,  1,  1,  1,\n",
       "        1,  1, -1,  1,  1, -1,  1,  1,  1,  1, -1, -1,  1,  1,  1,  1,  1,\n",
       "        1,  1,  1,  1,  1,  1,  1,  1,  1,  1, -1,  1,  1,  1,  1,  1,  1,\n",
       "        1,  1,  1,  1, -1,  1,  1,  1,  1,  1,  1,  1,  1,  1,  1,  1,  1,\n",
       "        1, -1,  1,  1,  1, -1,  1,  1,  1,  1,  1,  1,  1,  1,  1,  1,  1,\n",
       "        1,  1,  1,  1,  1,  1,  1,  1,  1,  1,  1,  1,  1,  1,  1,  1,  1,\n",
       "        1, -1,  1,  1,  1, -1,  1,  1,  1,  1,  1,  1,  1,  1,  1,  1,  1,\n",
       "       -1,  1,  1, -1,  1,  1,  1,  1, -1, -1,  1,  1,  1,  1,  1,  1,  1,\n",
       "        1,  1,  1, -1,  1,  1,  1,  1, -1,  1,  1,  1,  1,  1,  1,  1,  1,\n",
       "        1,  1, -1,  1,  1,  1,  1,  1,  1,  1,  1,  1,  1])"
      ]
     },
     "execution_count": 71,
     "metadata": {},
     "output_type": "execute_result"
    }
   ],
   "source": [
    "y_pred_train"
   ]
  },
  {
   "cell_type": "code",
   "execution_count": 72,
   "metadata": {},
   "outputs": [
    {
     "data": {
      "text/plain": [
       "array([ 1,  1,  1,  1, -1,  1,  1,  1,  1,  1, -1,  1,  1,  1,  1,  1,  1,\n",
       "       -1,  1,  1,  1,  1,  1,  1, -1,  1,  1,  1,  1,  1, -1,  1,  1,  1,\n",
       "        1,  1,  1, -1, -1,  1])"
      ]
     },
     "execution_count": 72,
     "metadata": {},
     "output_type": "execute_result"
    }
   ],
   "source": [
    "y_pred_test"
   ]
  },
  {
   "cell_type": "code",
   "execution_count": 73,
   "metadata": {},
   "outputs": [
    {
     "data": {
      "text/plain": [
       "array([-1, -1, -1, -1, -1, -1, -1, -1, -1, -1, -1, -1, -1, -1, -1, -1, -1,\n",
       "       -1, -1, -1])"
      ]
     },
     "execution_count": 73,
     "metadata": {},
     "output_type": "execute_result"
    }
   ],
   "source": [
    "y_pred_outliers"
   ]
  },
  {
   "cell_type": "code",
   "execution_count": 74,
   "metadata": {},
   "outputs": [
    {
     "name": "stdout",
     "output_type": "stream",
     "text": [
      "<class 'numpy.ndarray'>\n"
     ]
    }
   ],
   "source": [
    "print(type(X_test))"
   ]
  },
  {
   "cell_type": "code",
   "execution_count": 75,
   "metadata": {},
   "outputs": [],
   "source": [
    "# Dividing the test and train data as outliars and inliars\n",
    "import collections\n",
    "c = collections.Counter(y_pred_test)\n",
    "#print(c[1],c[-1])\n",
    "\n",
    "X_test_out = np.zeros((c[-1],2))\n",
    "X_test_in = np.zeros((c[1],2))\n",
    "cnt1 = 0\n",
    "cnt2 = 0\n",
    "for i in range(0,len(y_pred_test)):\n",
    "    if y_pred_test[i] == -1:\n",
    "        #print(X_test[i])\n",
    "        X_test_out[cnt1,0] = X_test[i][0]\n",
    "        X_test_out[cnt1,1] = X_test[i][1]\n",
    "        cnt1 = cnt1+1\n",
    "    else:\n",
    "        X_test_in[cnt2,0] = X_test[i][0]\n",
    "        X_test_in[cnt2,1] = X_test[i][1]\n",
    "        cnt2 = cnt2+1\n",
    "#print(X_test_out)\n",
    "#print(X_test_in)\n",
    "\n",
    "c = collections.Counter(y_pred_train)\n",
    "#print(c[1],c[-1])\n",
    "\n",
    "X_train_out = np.zeros((c[-1],2))\n",
    "X_train_in = np.zeros((c[1],2))\n",
    "cnt1 = 0\n",
    "cnt2 = 0\n",
    "for i in range(0,len(y_pred_train)):\n",
    "    if y_pred_train[i] == -1:\n",
    "        #print(X_test[i])\n",
    "        X_train_out[cnt1,0] = X_train[i][0]\n",
    "        X_train_out[cnt1,1] = X_train[i][1]\n",
    "        cnt1 = cnt1+1\n",
    "    else:\n",
    "        X_train_in[cnt2,0] = X_train[i][0]\n",
    "        X_train_in[cnt2,1] = X_train[i][1]\n",
    "        cnt2 = cnt2+1\n",
    "#print(X_train_out)\n",
    "#print(X_train_in)"
   ]
  },
  {
   "cell_type": "code",
   "execution_count": 76,
   "metadata": {},
   "outputs": [
    {
     "data": {
      "image/png": "[encoded data removed]",
      "text/plain": [
       "<Figure size 432x288 with 1 Axes>"
      ]
     },
     "metadata": {},
     "output_type": "display_data"
    }
   ],
   "source": [
    "# plot the line, the samples, and the nearest vectors to the plane\n",
    "xx, yy = np.meshgrid(np.linspace(-5, 5, 50), np.linspace(-5, 5, 50))\n",
    "Z = clf.decision_function(np.c_[xx.ravel(), yy.ravel()])\n",
    "Z = Z.reshape(xx.shape)\n",
    "\n",
    "plt.title(\"Isolation Forest\")\n",
    "plt.contourf(xx, yy, Z, cmap=plt.cm.Blues_r)\n",
    "\n",
    "b1_in = plt.scatter(X_train_in[:, 0], X_train_in[:, 1], c='white',\n",
    "                 s=20, edgecolor='k')\n",
    "b1_out = plt.scatter(X_train_out[:, 0], X_train_out[:, 1], c='gray',\n",
    "                 s=20, edgecolor='k')\n",
    "b2_in = plt.scatter(X_test_in[:, 0], X_test_in[:, 1], c='green',\n",
    "                 s=20, edgecolor='k')\n",
    "b2_out = plt.scatter(X_test_out[:, 0], X_test_out[:, 1], c='cyan',\n",
    "                 s=20, edgecolor='k')\n",
    "c = plt.scatter(X_outliers[:, 0], X_outliers[:, 1], c='red',\n",
    "                s=20, edgecolor='k')\n",
    "\n",
    "\n",
    "plt.axis('tight')\n",
    "plt.xlim((-5, 5))\n",
    "plt.ylim((-5, 5))\n",
    "plt.legend([b1_in, b1_out,b2_in, b2_out, c],\n",
    "           [\"training observations in\",\n",
    "            \"training observations out\",\n",
    "            \"new regular observations in \",\n",
    "            \"new regular observations out \",\"new abnormal observations\"],\n",
    "           loc=\"upper left\")\n",
    "plt.show()"
   ]
  },
  {
   "cell_type": "code",
   "execution_count": null,
   "metadata": {},
   "outputs": [],
   "source": []
  }
 ],
 "metadata": {
  "kernelspec": {
   "display_name": "Python 3",
   "language": "python",
   "name": "python3"
  },
  "language_info": {
   "codemirror_mode": {
    "name": "ipython",
    "version": 3
   },
   "file_extension": ".py",
   "mimetype": "text/x-python",
   "name": "python",
   "nbconvert_exporter": "python",
   "pygments_lexer": "ipython3",
   "version": "3.6.5"
  }
 },
 "nbformat": 4,
 "nbformat_minor": 2
}
